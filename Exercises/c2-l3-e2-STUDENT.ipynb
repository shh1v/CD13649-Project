{
 "cells": [
  {
   "cell_type": "markdown",
   "id": "d20767aa-def3-4e50-b194-9e327b523b04",
   "metadata": {},
   "source": [
    "# Exercise: Time Series Manipulations in Pandas\n",
    "\n",
    "Like in prior exercises, you'll download a ticker's historical data from YahooFinance. But raw data isn't that useful by itself, so in this exercise you'll get practice with manipulating time series data in Pandas. "
   ]
  },
  {
   "cell_type": "code",
   "execution_count": 12,
   "id": "43a37184-44e1-41e2-a8b9-d776b56a92d6",
   "metadata": {},
   "outputs": [],
   "source": [
    "import pandas as pd\n",
    "import yfinance as yf\n",
    "from datetime import datetime\n",
    "from dateutil.relativedelta import relativedelta"
   ]
  },
  {
   "cell_type": "markdown",
   "id": "71fb6221-5044-43c9-bf58-c361cc16a2b0",
   "metadata": {},
   "source": [
    "**Pull data for your favorite ticker from YahooFinance**\n",
    "\n",
    "Use the YF API to pull **daily** price data for at least 3 years for any stock ticker you'd like."
   ]
  },
  {
   "cell_type": "code",
   "execution_count": 2,
   "id": "c4b0b596-a1e0-4189-ae46-377a6c64da75",
   "metadata": {},
   "outputs": [
    {
     "name": "stderr",
     "output_type": "stream",
     "text": [
      "C:\\Users\\Shiv Patel\\AppData\\Local\\Temp\\ipykernel_25720\\1478860181.py:5: FutureWarning: YF.download() has changed argument auto_adjust default to True\n",
      "  data = yf.download(tickers=stock_ticker, start=start_date, end=end_date)\n",
      "[*********************100%***********************]  1 of 1 completed\n"
     ]
    }
   ],
   "source": [
    "stock_ticker = 'AAPL'\n",
    "start_date = '2020-01-01' # use format YYYY-MM-DD\n",
    "end_date = '2023-01-01'\n",
    "\n",
    "data = yf.download(tickers=stock_ticker, start=start_date, end=end_date)"
   ]
  },
  {
   "cell_type": "markdown",
   "id": "13086f04-973b-4199-a932-5fb3945b8879",
   "metadata": {},
   "source": [
    "**Resample from daily to weekly, taking the Friday price**\n",
    "\n",
    "Using the above data, resample your `closing` price to weekly. In the demo, we used the last day of the period. In this exercise, can you figure out how to pull the weekly data that's for Friday specifically? "
   ]
  },
  {
   "cell_type": "code",
   "execution_count": 5,
   "id": "190edac7-7198-44f5-bde6-3cea8a78486a",
   "metadata": {},
   "outputs": [],
   "source": [
    "weekly_data_friday = data['Close'].resample('W').last()"
   ]
  },
  {
   "cell_type": "markdown",
   "id": "2b420bc1-c4e8-4425-bd68-d3ea6dcdea5e",
   "metadata": {},
   "source": [
    "**Taking time-based slice of your data**\n",
    "\n",
    "Above you pulled the last 3 years of data for a given ticker. But in lots of trading applications, you don't need data that goes that far back in time as trends and underlying phenomenon have changed. \n",
    "\n",
    "Can you take just the last 3 months of data and put it into a new DataFrame? "
   ]
  },
  {
   "cell_type": "code",
   "execution_count": 20,
   "id": "e1779d06-cbbc-4b08-9af6-c3e874c90057",
   "metadata": {},
   "outputs": [
    {
     "data": {
      "text/html": [
       "<div>\n",
       "<style scoped>\n",
       "    .dataframe tbody tr th:only-of-type {\n",
       "        vertical-align: middle;\n",
       "    }\n",
       "\n",
       "    .dataframe tbody tr th {\n",
       "        vertical-align: top;\n",
       "    }\n",
       "\n",
       "    .dataframe thead tr th {\n",
       "        text-align: left;\n",
       "    }\n",
       "\n",
       "    .dataframe thead tr:last-of-type th {\n",
       "        text-align: right;\n",
       "    }\n",
       "</style>\n",
       "<table border=\"1\" class=\"dataframe\">\n",
       "  <thead>\n",
       "    <tr>\n",
       "      <th>Price</th>\n",
       "      <th>Close</th>\n",
       "      <th>High</th>\n",
       "      <th>Low</th>\n",
       "      <th>Open</th>\n",
       "      <th>Volume</th>\n",
       "    </tr>\n",
       "    <tr>\n",
       "      <th>Ticker</th>\n",
       "      <th>AAPL</th>\n",
       "      <th>AAPL</th>\n",
       "      <th>AAPL</th>\n",
       "      <th>AAPL</th>\n",
       "      <th>AAPL</th>\n",
       "    </tr>\n",
       "    <tr>\n",
       "      <th>Date</th>\n",
       "      <th></th>\n",
       "      <th></th>\n",
       "      <th></th>\n",
       "      <th></th>\n",
       "      <th></th>\n",
       "    </tr>\n",
       "  </thead>\n",
       "  <tbody>\n",
       "    <tr>\n",
       "      <th>2022-10-03</th>\n",
       "      <td>140.395447</td>\n",
       "      <td>141.006515</td>\n",
       "      <td>135.704105</td>\n",
       "      <td>136.216610</td>\n",
       "      <td>114311700</td>\n",
       "    </tr>\n",
       "    <tr>\n",
       "      <th>2022-10-04</th>\n",
       "      <td>143.992844</td>\n",
       "      <td>144.111108</td>\n",
       "      <td>142.179370</td>\n",
       "      <td>142.938269</td>\n",
       "      <td>87830100</td>\n",
       "    </tr>\n",
       "    <tr>\n",
       "      <th>2022-10-05</th>\n",
       "      <td>144.288498</td>\n",
       "      <td>145.254374</td>\n",
       "      <td>140.947392</td>\n",
       "      <td>141.992116</td>\n",
       "      <td>79471000</td>\n",
       "    </tr>\n",
       "    <tr>\n",
       "      <th>2022-10-06</th>\n",
       "      <td>143.332474</td>\n",
       "      <td>145.412042</td>\n",
       "      <td>143.125511</td>\n",
       "      <td>143.706998</td>\n",
       "      <td>68402200</td>\n",
       "    </tr>\n",
       "    <tr>\n",
       "      <th>2022-10-07</th>\n",
       "      <td>138.069504</td>\n",
       "      <td>141.036101</td>\n",
       "      <td>137.438735</td>\n",
       "      <td>140.484165</td>\n",
       "      <td>85925600</td>\n",
       "    </tr>\n",
       "    <tr>\n",
       "      <th>...</th>\n",
       "      <td>...</td>\n",
       "      <td>...</td>\n",
       "      <td>...</td>\n",
       "      <td>...</td>\n",
       "      <td>...</td>\n",
       "    </tr>\n",
       "    <tr>\n",
       "      <th>2022-12-23</th>\n",
       "      <td>130.173782</td>\n",
       "      <td>130.726619</td>\n",
       "      <td>127.982170</td>\n",
       "      <td>129.245801</td>\n",
       "      <td>63814900</td>\n",
       "    </tr>\n",
       "    <tr>\n",
       "      <th>2022-12-27</th>\n",
       "      <td>128.367157</td>\n",
       "      <td>129.729514</td>\n",
       "      <td>127.073912</td>\n",
       "      <td>129.699899</td>\n",
       "      <td>69007800</td>\n",
       "    </tr>\n",
       "    <tr>\n",
       "      <th>2022-12-28</th>\n",
       "      <td>124.428230</td>\n",
       "      <td>129.354417</td>\n",
       "      <td>124.260406</td>\n",
       "      <td>128.011808</td>\n",
       "      <td>85438400</td>\n",
       "    </tr>\n",
       "    <tr>\n",
       "      <th>2022-12-29</th>\n",
       "      <td>127.952553</td>\n",
       "      <td>128.811422</td>\n",
       "      <td>126.096597</td>\n",
       "      <td>126.353267</td>\n",
       "      <td>75703700</td>\n",
       "    </tr>\n",
       "    <tr>\n",
       "      <th>2022-12-30</th>\n",
       "      <td>128.268448</td>\n",
       "      <td>128.288196</td>\n",
       "      <td>125.800425</td>\n",
       "      <td>126.767896</td>\n",
       "      <td>77034200</td>\n",
       "    </tr>\n",
       "  </tbody>\n",
       "</table>\n",
       "<p>63 rows × 5 columns</p>\n",
       "</div>"
      ],
      "text/plain": [
       "Price            Close        High         Low        Open     Volume\n",
       "Ticker            AAPL        AAPL        AAPL        AAPL       AAPL\n",
       "Date                                                                 \n",
       "2022-10-03  140.395447  141.006515  135.704105  136.216610  114311700\n",
       "2022-10-04  143.992844  144.111108  142.179370  142.938269   87830100\n",
       "2022-10-05  144.288498  145.254374  140.947392  141.992116   79471000\n",
       "2022-10-06  143.332474  145.412042  143.125511  143.706998   68402200\n",
       "2022-10-07  138.069504  141.036101  137.438735  140.484165   85925600\n",
       "...                ...         ...         ...         ...        ...\n",
       "2022-12-23  130.173782  130.726619  127.982170  129.245801   63814900\n",
       "2022-12-27  128.367157  129.729514  127.073912  129.699899   69007800\n",
       "2022-12-28  124.428230  129.354417  124.260406  128.011808   85438400\n",
       "2022-12-29  127.952553  128.811422  126.096597  126.353267   75703700\n",
       "2022-12-30  128.268448  128.288196  125.800425  126.767896   77034200\n",
       "\n",
       "[63 rows x 5 columns]"
      ]
     },
     "execution_count": 20,
     "metadata": {},
     "output_type": "execute_result"
    }
   ],
   "source": [
    "# Get start_date 3 months behind\n",
    "end_datetime = datetime.strptime(end_date, \"%Y-%m-%d\").date()\n",
    "new_start_date = end_datetime - relativedelta(months=3)\n",
    "last_3_months = data[data.index.get_level_values('Date') >= str(new_start_date)]\n",
    "\n",
    "last_3_months"
   ]
  }
 ],
 "metadata": {
  "kernelspec": {
   "display_name": "Python 3 (ipykernel)",
   "language": "python",
   "name": "python3"
  },
  "language_info": {
   "codemirror_mode": {
    "name": "ipython",
    "version": 3
   },
   "file_extension": ".py",
   "mimetype": "text/x-python",
   "name": "python",
   "nbconvert_exporter": "python",
   "pygments_lexer": "ipython3",
   "version": "3.10.16"
  }
 },
 "nbformat": 4,
 "nbformat_minor": 5
}
